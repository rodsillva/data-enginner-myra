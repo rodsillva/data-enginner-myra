{
 "cells": [
  {
   "cell_type": "markdown",
   "id": "5f39c668-9a98-4141-948b-554e44008e3c",
   "metadata": {},
   "source": [
    "# **Processo Seletivo Engenharia de dados MYRA - Rodolfo Silva**"
   ]
  },
  {
   "cell_type": "markdown",
   "id": "b4e8e23d-a251-48a3-a14d-36ded57b5877",
   "metadata": {
    "tags": []
   },
   "source": [
    "### Importando o PySpark e Inicializando Sessão"
   ]
  },
  {
   "cell_type": "markdown",
   "id": "a7693039-e8f2-47a1-9d95-7ea470381e4b",
   "metadata": {
    "tags": []
   },
   "source": [
    "#### Importando o PySpark e Suas Dependências"
   ]
  },
  {
   "cell_type": "code",
   "execution_count": 2,
   "id": "5e3e7131-a1ab-4e01-9806-a7b67243eb99",
   "metadata": {},
   "outputs": [],
   "source": [
    "import findspark\n",
    "findspark.init()\n",
    "#findspark.find()"
   ]
  },
  {
   "cell_type": "code",
   "execution_count": 3,
   "id": "ceae8de5-8fcd-4466-b98f-dcf89a42494c",
   "metadata": {},
   "outputs": [],
   "source": [
    "import pyspark\n",
    "from pyspark.sql import SparkSession\n",
    "from pyspark.sql import DataFrame\n",
    "from pyspark.sql import functions as F\n",
    "from pyspark import SparkContext,SQLContext"
   ]
  },
  {
   "cell_type": "markdown",
   "id": "2088169b-dcbf-4bbe-93fc-073474c05fc9",
   "metadata": {
    "tags": []
   },
   "source": [
    "#### Inicializando Sessão PySpark"
   ]
  },
  {
   "cell_type": "code",
   "execution_count": 4,
   "id": "4bb0746f-309b-4583-83bf-b6511bd05b6d",
   "metadata": {},
   "outputs": [],
   "source": [
    "spark = SparkSession.builder.master(\"local\").getOrCreate()\n",
    "sc = spark.sparkContext"
   ]
  },
  {
   "cell_type": "markdown",
   "id": "fe181a71-551d-41ed-a3a6-6a575f38b596",
   "metadata": {
    "jp-MarkdownHeadingCollapsed": true,
    "tags": []
   },
   "source": [
    "### Importando o Matplotlib"
   ]
  },
  {
   "cell_type": "code",
   "execution_count": 14,
   "id": "46ee43a0-304d-4960-8a7c-80f83ad4bbb8",
   "metadata": {},
   "outputs": [],
   "source": [
    "import matplotlib.pyplot as plt"
   ]
  },
  {
   "cell_type": "markdown",
   "id": "f822aa4c-1851-4970-9383-d2475e2b0a71",
   "metadata": {
    "jp-MarkdownHeadingCollapsed": true,
    "tags": []
   },
   "source": [
    "### Importando os Datasets \"*Brazilian E-Commerce Public Dataset by Olist*\" Baixados do Kaggle"
   ]
  },
  {
   "cell_type": "code",
   "execution_count": 90,
   "id": "49ac0229-3432-43c7-a931-c0bc4caf116a",
   "metadata": {},
   "outputs": [
    {
     "name": "stdout",
     "output_type": "stream",
     "text": [
      "+--------------------+--------------------+------------+------------------------+-------------------+----------------------------+-----------------------------+-----------------------------+\n",
      "|            order_id|         customer_id|order_status|order_purchase_timestamp|  order_approved_at|order_delivered_carrier_date|order_delivered_customer_date|order_estimated_delivery_date|\n",
      "+--------------------+--------------------+------------+------------------------+-------------------+----------------------------+-----------------------------+-----------------------------+\n",
      "|e481f51cbdc54678b...|9ef432eb625129730...|   delivered|     2017-10-02 10:56:33|2017-10-02 11:07:15|         2017-10-04 19:55:00|          2017-10-10 21:25:13|          2017-10-18 00:00:00|\n",
      "|53cdb2fc8bc7dce0b...|b0830fb4747a6c6d2...|   delivered|     2018-07-24 20:41:37|2018-07-26 03:24:27|         2018-07-26 14:31:00|          2018-08-07 15:27:45|          2018-08-13 00:00:00|\n",
      "|47770eb9100c2d0c4...|41ce2a54c0b03bf34...|   delivered|     2018-08-08 08:38:49|2018-08-08 08:55:23|         2018-08-08 13:50:00|          2018-08-17 18:06:29|          2018-09-04 00:00:00|\n",
      "|949d5b44dbf5de918...|f88197465ea7920ad...|   delivered|     2017-11-18 19:28:06|2017-11-18 19:45:59|         2017-11-22 13:39:59|          2017-12-02 00:28:42|          2017-12-15 00:00:00|\n",
      "|ad21c59c0840e6cb8...|8ab97904e6daea886...|   delivered|     2018-02-13 21:18:39|2018-02-13 22:20:29|         2018-02-14 19:46:34|          2018-02-16 18:17:02|          2018-02-26 00:00:00|\n",
      "+--------------------+--------------------+------------+------------------------+-------------------+----------------------------+-----------------------------+-----------------------------+\n",
      "only showing top 5 rows\n",
      "\n"
     ]
    }
   ],
   "source": [
    "# Importando o dataset olist_orders_dataset.csv\n",
    "df_orders = spark.read.csv(\"./olist_orders_dataset.csv\", header=True, inferSchema=False, sep=\",\")\n",
    "df_orders.show(n=5)"
   ]
  },
  {
   "cell_type": "code",
   "execution_count": 294,
   "id": "132eb9a8-e899-400a-a5c7-72764f998f7d",
   "metadata": {},
   "outputs": [
    {
     "name": "stdout",
     "output_type": "stream",
     "text": [
      "+--------------------+--------------------+------------+--------------------+----------------------+--------------------+-----------------------+\n",
      "|           review_id|            order_id|review_score|review_comment_title|review_comment_message|review_creation_date|review_answer_timestamp|\n",
      "+--------------------+--------------------+------------+--------------------+----------------------+--------------------+-----------------------+\n",
      "|7bc2406110b926393...|73fc7af87114b3971...|           4|                null|                  null| 2018-01-18 00:00:00|    2018-01-18 21:46:59|\n",
      "|80e641a11e56f04c1...|a548910a1c6147796...|           5|                null|                  null| 2018-03-10 00:00:00|    2018-03-11 03:05:13|\n",
      "|228ce5500dc1d8e02...|f9e4b658b201a9f2e...|           5|                null|                  null| 2018-02-17 00:00:00|    2018-02-18 14:36:24|\n",
      "|e64fb393e7b32834b...|658677c97b385a9be...|           5|                null|  Recebi bem antes ...| 2017-04-21 00:00:00|    2017-04-21 22:02:06|\n",
      "|f7c4243c7fe1938f1...|8e6bfb81e283fa7e4...|           5|                null|  Parabéns lojas la...| 2018-03-01 00:00:00|    2018-03-02 10:26:53|\n",
      "+--------------------+--------------------+------------+--------------------+----------------------+--------------------+-----------------------+\n",
      "only showing top 5 rows\n",
      "\n"
     ]
    }
   ],
   "source": [
    "# Importando o dataset olist_order_reviews_dataset.csv\n",
    "df_order_reviews = spark.read.csv(\"./olist_order_reviews_dataset.csv\", header=True, inferSchema=False, sep=\",\")\n",
    "df_order_reviews.show(n=5)"
   ]
  },
  {
   "cell_type": "code",
   "execution_count": 276,
   "id": "087fdb51-3cfe-4d37-95a2-79f03cf4759c",
   "metadata": {},
   "outputs": [
    {
     "data": {
      "text/plain": [
       "Row(review_id='80e641a11e56f04c1ad469d5645fdfde')"
      ]
     },
     "execution_count": 276,
     "metadata": {},
     "output_type": "execute_result"
    }
   ],
   "source": [
    "df_order_reviews.select(\"review_id\").collect()[1]"
   ]
  },
  {
   "cell_type": "code",
   "execution_count": 311,
   "id": "766ae1d6-4b50-4235-9164-b1887e425a81",
   "metadata": {},
   "outputs": [
    {
     "name": "stdout",
     "output_type": "stream",
     "text": [
      "+--------------------+-------------+--------------------+--------------------+-------------------+------+-------------+\n",
      "|            order_id|order_item_id|          product_id|           seller_id|shipping_limit_date| price|freight_value|\n",
      "+--------------------+-------------+--------------------+--------------------+-------------------+------+-------------+\n",
      "|00010242fe8c5a6d1...|            1|4244733e06e7ecb49...|48436dade18ac8b2b...|2017-09-19 09:45:35| 58.90|        13.29|\n",
      "|00018f77f2f0320c5...|            1|e5f2d52b802189ee6...|dd7ddc04e1b6c2c61...|2017-05-03 11:05:13|239.90|        19.93|\n",
      "|000229ec398224ef6...|            1|c777355d18b72b67a...|5b51032eddd242adc...|2018-01-18 14:48:30|199.00|        17.87|\n",
      "|00024acbcdf0a6daa...|            1|7634da152a4610f15...|9d7a1d34a50524090...|2018-08-15 10:10:18| 12.99|        12.79|\n",
      "|00042b26cf59d7ce6...|            1|ac6c3623068f30de0...|df560393f3a51e745...|2017-02-13 13:57:51|199.90|        18.14|\n",
      "+--------------------+-------------+--------------------+--------------------+-------------------+------+-------------+\n",
      "only showing top 5 rows\n",
      "\n"
     ]
    }
   ],
   "source": [
    "# Importando o dataset olist_order_items_dataset.csv\n",
    "df_order_items = spark.read.csv(\"./olist_order_items_dataset.csv\", header=True, inferSchema=False, sep=\",\")\n",
    "df_order_items.show(n=5)"
   ]
  },
  {
   "cell_type": "code",
   "execution_count": 93,
   "id": "2ef15327-58ec-4dea-840d-bad1bc3c09cc",
   "metadata": {},
   "outputs": [
    {
     "name": "stdout",
     "output_type": "stream",
     "text": [
      "+--------------------+---------------------+-------------------+--------------------------+------------------+----------------+-----------------+-----------------+----------------+\n",
      "|          product_id|product_category_name|product_name_lenght|product_description_lenght|product_photos_qty|product_weight_g|product_length_cm|product_height_cm|product_width_cm|\n",
      "+--------------------+---------------------+-------------------+--------------------------+------------------+----------------+-----------------+-----------------+----------------+\n",
      "|1e9e8ef04dbcff454...|           perfumaria|                 40|                       287|                 1|             225|               16|               10|              14|\n",
      "|3aa071139cb16b67c...|                artes|                 44|                       276|                 1|            1000|               30|               18|              20|\n",
      "|96bd76ec8810374ed...|        esporte_lazer|                 46|                       250|                 1|             154|               18|                9|              15|\n",
      "|cef67bcfe19066a93...|                bebes|                 27|                       261|                 1|             371|               26|                4|              26|\n",
      "|9dc1a7de274444849...| utilidades_domest...|                 37|                       402|                 4|             625|               20|               17|              13|\n",
      "+--------------------+---------------------+-------------------+--------------------------+------------------+----------------+-----------------+-----------------+----------------+\n",
      "only showing top 5 rows\n",
      "\n"
     ]
    }
   ],
   "source": [
    "# Importando o dataset olist_products_dataset.csv\n",
    "df_products = spark.read.csv(\"./olist_products_dataset.csv\", header=True, inferSchema=False, sep=\",\")\n",
    "df_products.show(n=5)"
   ]
  },
  {
   "cell_type": "markdown",
   "id": "8b810ae0-cee6-47ce-bdb8-1588580a26c4",
   "metadata": {
    "jp-MarkdownHeadingCollapsed": true,
    "tags": []
   },
   "source": [
    "### Contando a Quantidade de Linhas de Cada um dos Datasets Acima"
   ]
  },
  {
   "cell_type": "code",
   "execution_count": 94,
   "id": "9aa734e7-6311-491b-827e-83c2eee33beb",
   "metadata": {},
   "outputs": [
    {
     "data": {
      "text/plain": [
       "99441"
      ]
     },
     "execution_count": 94,
     "metadata": {},
     "output_type": "execute_result"
    }
   ],
   "source": [
    "# Numero de linhas do olist_orders_dataset\n",
    "df_orders.count()"
   ]
  },
  {
   "cell_type": "code",
   "execution_count": 95,
   "id": "9b49febb-a787-498b-8914-a1f03b82c072",
   "metadata": {},
   "outputs": [
    {
     "data": {
      "text/plain": [
       "104162"
      ]
     },
     "execution_count": 95,
     "metadata": {},
     "output_type": "execute_result"
    }
   ],
   "source": [
    "# Numero de linhas do olist_order_reviews_dataset\n",
    "df_order_reviews.count()"
   ]
  },
  {
   "cell_type": "code",
   "execution_count": 96,
   "id": "5fd6cefd-fffa-4aa4-b9a3-8acee8b1ae22",
   "metadata": {},
   "outputs": [
    {
     "data": {
      "text/plain": [
       "112650"
      ]
     },
     "execution_count": 96,
     "metadata": {},
     "output_type": "execute_result"
    }
   ],
   "source": [
    "# Numero de linhas do olist_order_items_dataset\n",
    "df_order_items.count()"
   ]
  },
  {
   "cell_type": "code",
   "execution_count": 97,
   "id": "9f994703-19bd-4250-ae0a-a056f61bc853",
   "metadata": {},
   "outputs": [
    {
     "data": {
      "text/plain": [
       "32951"
      ]
     },
     "execution_count": 97,
     "metadata": {},
     "output_type": "execute_result"
    }
   ],
   "source": [
    "# Numero de linhas do olist_products_dataset\n",
    "df_products.count()"
   ]
  },
  {
   "cell_type": "markdown",
   "id": "6cec9de4-342a-427e-9006-6bfc55cdeaae",
   "metadata": {
    "jp-MarkdownHeadingCollapsed": true,
    "tags": []
   },
   "source": [
    "### Consolidacao dos Datasets em um Unico Dataframe (Sem Repetição de Colunas)"
   ]
  },
  {
   "cell_type": "markdown",
   "id": "54175d70-90b3-41bc-9673-6ad2ac2ba1fb",
   "metadata": {
    "jp-MarkdownHeadingCollapsed": true,
    "tags": []
   },
   "source": [
    "#### Unindo os DataFrames df_orders e df_order_reviews"
   ]
  },
  {
   "cell_type": "code",
   "execution_count": 305,
   "id": "aefb230c-08a3-4c80-b07e-08bc4f74f563",
   "metadata": {},
   "outputs": [
    {
     "name": "stdout",
     "output_type": "stream",
     "text": [
      "+--------------------+--------------------+------------+------------------------+-------------------+----------------------------+-----------------------------+-----------------------------+--------------------+--------------------+--------------------+----------------------+--------------------+-----------------------+\n",
      "|            order_id|         customer_id|order_status|order_purchase_timestamp|  order_approved_at|order_delivered_carrier_date|order_delivered_customer_date|order_estimated_delivery_date|           review_id|        review_score|review_comment_title|review_comment_message|review_creation_date|review_answer_timestamp|\n",
      "+--------------------+--------------------+------------+------------------------+-------------------+----------------------------+-----------------------------+-----------------------------+--------------------+--------------------+--------------------+----------------------+--------------------+-----------------------+\n",
      "| tive que ir até ...|                null|        null|                    null|               null|                        null|                         null|                         null|   Embalagem violada| 2018-05-10 00:00:00| 2018-05-11 15:06:45|                  null|                null|                   null|\n",
      "| verifiquei que o...|                null|        null|                    null|               null|                        null|                         null|                         null|    Ao abrir a caixa| 2018-04-11 00:00:00| 2018-04-19 15:30:14|                  null|                null|                   null|\n",
      "| é semelhante ao ...|                null|        null|                    null|               null|                        null|                         null|                         null|Quanto à fragrânc...| diferente apenas...| 2018-08-02 00:00:00|   2018-08-02 15:17:08|                null|                   null|\n",
      "|014405982914c2cde...|2de342d6e5905a5a8...|   delivered|     2017-07-26 17:38:47|2017-07-26 17:50:17|         2017-07-27 19:39:52|          2017-07-31 15:53:33|          2017-08-17 00:00:00|ba5e6d78da2b2c3f5...|                   5|                null|                  null| 2017-08-01 00:00:00|    2017-08-04 19:34:54|\n",
      "|019886de8f385a39b...|8cf88d7ba142365ef...|   delivered|     2018-02-10 12:52:51|2018-02-10 13:08:12|         2018-02-14 15:28:51|          2018-02-23 02:03:03|          2018-03-14 00:00:00|3a6ebeb7f45583720...|                   5|                null|  Produto foi entre...| 2018-02-24 00:00:00|    2018-02-27 15:10:57|\n",
      "+--------------------+--------------------+------------+------------------------+-------------------+----------------------------+-----------------------------+-----------------------------+--------------------+--------------------+--------------------+----------------------+--------------------+-----------------------+\n",
      "only showing top 5 rows\n",
      "\n"
     ]
    }
   ],
   "source": [
    "df_join_1 = df_orders.join(df_order_reviews, how=\"outer\", on=[\"order_id\"])\n",
    "df_join_1.show(n=5)"
   ]
  },
  {
   "cell_type": "markdown",
   "id": "3d36a805-558e-4ceb-ba30-b90a61ff439a",
   "metadata": {
    "jp-MarkdownHeadingCollapsed": true,
    "tags": []
   },
   "source": [
    "#### Unindo os DataFrames df_join_1 e df_order_items"
   ]
  },
  {
   "cell_type": "code",
   "execution_count": 306,
   "id": "52dc990a-2ff8-4847-ba75-f98761f33dad",
   "metadata": {},
   "outputs": [
    {
     "name": "stdout",
     "output_type": "stream",
     "text": [
      "+--------------------+--------------------+------------+------------------------+-------------------+----------------------------+-----------------------------+-----------------------------+--------------------+--------------------+--------------------+----------------------+--------------------+-----------------------+-------------+--------------------+--------------------+-------------------+-----+-------------+\n",
      "|            order_id|         customer_id|order_status|order_purchase_timestamp|  order_approved_at|order_delivered_carrier_date|order_delivered_customer_date|order_estimated_delivery_date|           review_id|        review_score|review_comment_title|review_comment_message|review_creation_date|review_answer_timestamp|order_item_id|          product_id|           seller_id|shipping_limit_date|price|freight_value|\n",
      "+--------------------+--------------------+------------+------------------------+-------------------+----------------------------+-----------------------------+-----------------------------+--------------------+--------------------+--------------------+----------------------+--------------------+-----------------------+-------------+--------------------+--------------------+-------------------+-----+-------------+\n",
      "| tive que ir até ...|                null|        null|                    null|               null|                        null|                         null|                         null|   Embalagem violada| 2018-05-10 00:00:00| 2018-05-11 15:06:45|                  null|                null|                   null|         null|                null|                null|               null| null|         null|\n",
      "| verifiquei que o...|                null|        null|                    null|               null|                        null|                         null|                         null|    Ao abrir a caixa| 2018-04-11 00:00:00| 2018-04-19 15:30:14|                  null|                null|                   null|         null|                null|                null|               null| null|         null|\n",
      "| é semelhante ao ...|                null|        null|                    null|               null|                        null|                         null|                         null|Quanto à fragrânc...| diferente apenas...| 2018-08-02 00:00:00|   2018-08-02 15:17:08|                null|                   null|         null|                null|                null|               null| null|         null|\n",
      "|014405982914c2cde...|2de342d6e5905a5a8...|   delivered|     2017-07-26 17:38:47|2017-07-26 17:50:17|         2017-07-27 19:39:52|          2017-07-31 15:53:33|          2017-08-17 00:00:00|ba5e6d78da2b2c3f5...|                   5|                null|                  null| 2017-08-01 00:00:00|    2017-08-04 19:34:54|            1|6782d593f63105318...|325f3178fb58e2a97...|2017-08-01 17:50:17|27.90|         3.81|\n",
      "|014405982914c2cde...|2de342d6e5905a5a8...|   delivered|     2017-07-26 17:38:47|2017-07-26 17:50:17|         2017-07-27 19:39:52|          2017-07-31 15:53:33|          2017-08-17 00:00:00|ba5e6d78da2b2c3f5...|                   5|                null|                  null| 2017-08-01 00:00:00|    2017-08-04 19:34:54|            2|e95ee6822b66ac605...|a17f621c590ea0fab...|2017-08-01 17:50:17|21.33|        25.39|\n",
      "+--------------------+--------------------+------------+------------------------+-------------------+----------------------------+-----------------------------+-----------------------------+--------------------+--------------------+--------------------+----------------------+--------------------+-----------------------+-------------+--------------------+--------------------+-------------------+-----+-------------+\n",
      "only showing top 5 rows\n",
      "\n"
     ]
    }
   ],
   "source": [
    "df_join_2 = df_join_1.join(df_order_items, how=\"outer\", on=[\"order_id\"])\n",
    "df_join_2.show(n=5)"
   ]
  },
  {
   "cell_type": "markdown",
   "id": "26528cff-0f7c-4a11-b734-a0de9bad9363",
   "metadata": {
    "jp-MarkdownHeadingCollapsed": true,
    "tags": []
   },
   "source": [
    "#### Unindo os DataFrames df_join_2 e df_products"
   ]
  },
  {
   "cell_type": "code",
   "execution_count": 324,
   "id": "826cec36-5760-4557-87fe-8835510cecf7",
   "metadata": {},
   "outputs": [
    {
     "name": "stdout",
     "output_type": "stream",
     "text": [
      "+--------------------+--------------------+--------------------+------------+------------------------+-------------------+----------------------------+-----------------------------+-----------------------------+--------------------+--------------------+--------------------+----------------------+--------------------+-----------------------+-------------+--------------------+-------------------+-----+-------------+---------------------+-------------------+--------------------------+------------------+----------------+-----------------+-----------------+----------------+\n",
      "|          product_id|            order_id|         customer_id|order_status|order_purchase_timestamp|  order_approved_at|order_delivered_carrier_date|order_delivered_customer_date|order_estimated_delivery_date|           review_id|        review_score|review_comment_title|review_comment_message|review_creation_date|review_answer_timestamp|order_item_id|           seller_id|shipping_limit_date|price|freight_value|product_category_name|product_name_lenght|product_description_lenght|product_photos_qty|product_weight_g|product_length_cm|product_height_cm|product_width_cm|\n",
      "+--------------------+--------------------+--------------------+------------+------------------------+-------------------+----------------------------+-----------------------------+-----------------------------+--------------------+--------------------+--------------------+----------------------+--------------------+-----------------------+-------------+--------------------+-------------------+-----+-------------+---------------------+-------------------+--------------------------+------------------+----------------+-----------------+-----------------+----------------+\n",
      "|                null| tive que ir até ...|                null|        null|                    null|               null|                        null|                         null|                         null|   Embalagem violada| 2018-05-10 00:00:00| 2018-05-11 15:06:45|                  null|                null|                   null|         null|                null|               null| null|         null|                 null|               null|                      null|              null|            null|             null|             null|            null|\n",
      "|                null| verifiquei que o...|                null|        null|                    null|               null|                        null|                         null|                         null|    Ao abrir a caixa| 2018-04-11 00:00:00| 2018-04-19 15:30:14|                  null|                null|                   null|         null|                null|               null| null|         null|                 null|               null|                      null|              null|            null|             null|             null|            null|\n",
      "|                null| é semelhante ao ...|                null|        null|                    null|               null|                        null|                         null|                         null|Quanto à fragrânc...| diferente apenas...| 2018-08-02 00:00:00|   2018-08-02 15:17:08|                null|                   null|         null|                null|               null| null|         null|                 null|               null|                      null|              null|            null|             null|             null|            null|\n",
      "|6782d593f63105318...|014405982914c2cde...|2de342d6e5905a5a8...|   delivered|     2017-07-26 17:38:47|2017-07-26 17:50:17|         2017-07-27 19:39:52|          2017-07-31 15:53:33|          2017-08-17 00:00:00|ba5e6d78da2b2c3f5...|                   5|                null|                  null| 2017-08-01 00:00:00|    2017-08-04 19:34:54|            1|325f3178fb58e2a97...|2017-08-01 17:50:17|27.90|         3.81|           perfumaria|                 30|                       487|                 1|             200|               16|               14|              12|\n",
      "|e95ee6822b66ac605...|014405982914c2cde...|2de342d6e5905a5a8...|   delivered|     2017-07-26 17:38:47|2017-07-26 17:50:17|         2017-07-27 19:39:52|          2017-07-31 15:53:33|          2017-08-17 00:00:00|ba5e6d78da2b2c3f5...|                   5|                null|                  null| 2017-08-01 00:00:00|    2017-08-04 19:34:54|            2|a17f621c590ea0fab...|2017-08-01 17:50:17|21.33|        25.39|        esporte_lazer|                 52|                      1153|                 1|             180|               17|               11|              14|\n",
      "+--------------------+--------------------+--------------------+------------+------------------------+-------------------+----------------------------+-----------------------------+-----------------------------+--------------------+--------------------+--------------------+----------------------+--------------------+-----------------------+-------------+--------------------+-------------------+-----+-------------+---------------------+-------------------+--------------------------+------------------+----------------+-----------------+-----------------+----------------+\n",
      "only showing top 5 rows\n",
      "\n"
     ]
    }
   ],
   "source": [
    "df_join_3 = df_join_2.join(df_products, how=\"left\", on=[\"product_id\"])\n",
    "df_join_3.show(n=5)"
   ]
  },
  {
   "cell_type": "markdown",
   "id": "6df93441-e222-4e04-baab-d0fefb6f2296",
   "metadata": {
    "jp-MarkdownHeadingCollapsed": true,
    "tags": []
   },
   "source": [
    "### Total de linhas do DataFrame final unificado"
   ]
  },
  {
   "cell_type": "code",
   "execution_count": 327,
   "id": "1514fa41-80ed-4287-ad9b-2e330f0e2079",
   "metadata": {},
   "outputs": [
    {
     "name": "stdout",
     "output_type": "stream",
     "text": [
      "df_join_1: 104930, df_join_2: 119030, df_join_3: 119030\n"
     ]
    }
   ],
   "source": [
    "# Quantidade de linhas de cada dataframe unificado\n",
    "print(f'df_join_1: {df_join_1.count()}, df_join_2: {df_join_2.count()}, df_join_3: {df_join_3.count()}')"
   ]
  },
  {
   "cell_type": "code",
   "execution_count": 328,
   "id": "5c9b2820-3712-449f-bd20-fe9086699a0c",
   "metadata": {},
   "outputs": [
    {
     "data": {
      "text/plain": [
       "119030"
      ]
     },
     "execution_count": 328,
     "metadata": {},
     "output_type": "execute_result"
    }
   ],
   "source": [
    "# Quantidade de linhas do dataframe final unificado\n",
    "df_join_3.count()"
   ]
  },
  {
   "cell_type": "markdown",
   "id": "04341d87-d3f5-4689-9c20-57b96646f070",
   "metadata": {
    "tags": []
   },
   "source": [
    "### Total de linhas por product_category_name (cont do top 10 ordenado do maior para o menor)"
   ]
  },
  {
   "cell_type": "code",
   "execution_count": 366,
   "id": "595d3743-e414-4647-9143-5af30731b72c",
   "metadata": {},
   "outputs": [],
   "source": [
    "df_count_product_category = df_join_3.groupBy('product_category_name').count()\n",
    "df_count_product_category = df_count_product_category.sort(F.desc(\"count\")).limit(10)"
   ]
  },
  {
   "cell_type": "code",
   "execution_count": 367,
   "id": "3ef5f997-f719-4943-a678-681206493c11",
   "metadata": {},
   "outputs": [
    {
     "name": "stdout",
     "output_type": "stream",
     "text": [
      "+----------------------+-----+\n",
      "|product_category_name |count|\n",
      "+----------------------+-----+\n",
      "|cama_mesa_banho       |11270|\n",
      "|beleza_saude          |9727 |\n",
      "|esporte_lazer         |8700 |\n",
      "|moveis_decoracao      |8415 |\n",
      "|informatica_acessorios|7894 |\n",
      "|null                  |7328 |\n",
      "|utilidades_domesticas |6989 |\n",
      "|relogios_presentes    |6001 |\n",
      "|telefonia             |4550 |\n",
      "|ferramentas_jardim    |4361 |\n",
      "+----------------------+-----+\n",
      "\n"
     ]
    }
   ],
   "source": [
    "df_count_product_category.show(truncate=False)"
   ]
  },
  {
   "cell_type": "markdown",
   "id": "16cd7d0e-5c1a-4958-a516-28315081cb8d",
   "metadata": {
    "jp-MarkdownHeadingCollapsed": true,
    "tags": []
   },
   "source": [
    "### Removendo todos os ids (colunas) do dataframe"
   ]
  },
  {
   "cell_type": "code",
   "execution_count": 370,
   "id": "1ebcf036-1f5e-4a34-8202-07ef214845e4",
   "metadata": {},
   "outputs": [
    {
     "name": "stdout",
     "output_type": "stream",
     "text": [
      "root\n",
      " |-- product_id: string (nullable = true)\n",
      " |-- order_id: string (nullable = true)\n",
      " |-- customer_id: string (nullable = true)\n",
      " |-- order_status: string (nullable = true)\n",
      " |-- order_purchase_timestamp: string (nullable = true)\n",
      " |-- order_approved_at: string (nullable = true)\n",
      " |-- order_delivered_carrier_date: string (nullable = true)\n",
      " |-- order_delivered_customer_date: string (nullable = true)\n",
      " |-- order_estimated_delivery_date: string (nullable = true)\n",
      " |-- review_id: string (nullable = true)\n",
      " |-- review_score: string (nullable = true)\n",
      " |-- review_comment_title: string (nullable = true)\n",
      " |-- review_comment_message: string (nullable = true)\n",
      " |-- review_creation_date: string (nullable = true)\n",
      " |-- review_answer_timestamp: string (nullable = true)\n",
      " |-- order_item_id: string (nullable = true)\n",
      " |-- seller_id: string (nullable = true)\n",
      " |-- shipping_limit_date: string (nullable = true)\n",
      " |-- price: string (nullable = true)\n",
      " |-- freight_value: string (nullable = true)\n",
      " |-- product_category_name: string (nullable = true)\n",
      " |-- product_name_lenght: string (nullable = true)\n",
      " |-- product_description_lenght: string (nullable = true)\n",
      " |-- product_photos_qty: string (nullable = true)\n",
      " |-- product_weight_g: string (nullable = true)\n",
      " |-- product_length_cm: string (nullable = true)\n",
      " |-- product_height_cm: string (nullable = true)\n",
      " |-- product_width_cm: string (nullable = true)\n",
      "\n"
     ]
    }
   ],
   "source": [
    "df_join_4 = df_join_3\n",
    "df_join_4.printSchema()"
   ]
  },
  {
   "cell_type": "code",
   "execution_count": 372,
   "id": "305f9bb6-ab9a-49c2-a6a2-a6f9d600de01",
   "metadata": {},
   "outputs": [],
   "source": [
    "df_join_4 = df_join_4.drop(*('product_id', 'order_id', 'customer_id',\n",
    "                             'review_id', 'order_item_id', 'seller_id'))"
   ]
  },
  {
   "cell_type": "code",
   "execution_count": 380,
   "id": "ca6b2f4d-6d17-42f1-802c-35ffaaf96be1",
   "metadata": {},
   "outputs": [
    {
     "name": "stdout",
     "output_type": "stream",
     "text": [
      "root\n",
      " |-- order_status: string (nullable = true)\n",
      " |-- order_purchase_timestamp: string (nullable = true)\n",
      " |-- order_approved_at: string (nullable = true)\n",
      " |-- order_delivered_carrier_date: string (nullable = true)\n",
      " |-- order_delivered_customer_date: string (nullable = true)\n",
      " |-- order_estimated_delivery_date: string (nullable = true)\n",
      " |-- review_score: string (nullable = true)\n",
      " |-- review_comment_title: string (nullable = true)\n",
      " |-- review_comment_message: string (nullable = true)\n",
      " |-- review_creation_date: string (nullable = true)\n",
      " |-- review_answer_timestamp: string (nullable = true)\n",
      " |-- shipping_limit_date: string (nullable = true)\n",
      " |-- price: string (nullable = true)\n",
      " |-- freight_value: string (nullable = true)\n",
      " |-- product_category_name: string (nullable = true)\n",
      " |-- product_name_lenght: string (nullable = true)\n",
      " |-- product_description_lenght: string (nullable = true)\n",
      " |-- product_photos_qty: string (nullable = true)\n",
      " |-- product_weight_g: string (nullable = true)\n",
      " |-- product_length_cm: string (nullable = true)\n",
      " |-- product_height_cm: string (nullable = true)\n",
      " |-- product_width_cm: string (nullable = true)\n",
      "\n"
     ]
    }
   ],
   "source": [
    "df_join_4.printSchema()"
   ]
  },
  {
   "cell_type": "markdown",
   "id": "34e40511-96aa-4286-a75f-3d05fedda756",
   "metadata": {
    "jp-MarkdownHeadingCollapsed": true,
    "tags": []
   },
   "source": [
    "### Convertendo coluna review_creation_date para date (sem o tempo)"
   ]
  },
  {
   "cell_type": "code",
   "execution_count": 390,
   "id": "1ff54b92-1419-440e-afe1-52b33a499d47",
   "metadata": {},
   "outputs": [],
   "source": [
    "df_converted = df_join_4.withColumn(\"review_creation_date\", \n",
    "                                  df_join_4[\"review_creation_date\"].cast(\"date\"))\n",
    "#df_converted.printSchema()"
   ]
  },
  {
   "cell_type": "code",
   "execution_count": 407,
   "id": "8d4310e5-cb6c-4ccd-a873-4f9c29dd5cfe",
   "metadata": {},
   "outputs": [
    {
     "name": "stdout",
     "output_type": "stream",
     "text": [
      "+--------------------+\n",
      "|review_creation_date|\n",
      "+--------------------+\n",
      "|                null|\n",
      "|                null|\n",
      "|                null|\n",
      "|          2017-08-01|\n",
      "|          2017-08-01|\n",
      "+--------------------+\n",
      "only showing top 5 rows\n",
      "\n"
     ]
    }
   ],
   "source": [
    "df_converted.select(\"review_creation_date\").show(n=5)"
   ]
  },
  {
   "cell_type": "markdown",
   "id": "60ad5146-f7a6-409a-82a8-134db8d478fd",
   "metadata": {
    "jp-MarkdownHeadingCollapsed": true,
    "tags": []
   },
   "source": [
    "### Criando uma função para converter todo o texto para lower case (tudo minusculo)"
   ]
  },
  {
   "cell_type": "code",
   "execution_count": 424,
   "id": "d63e239c-4190-40d6-8c0d-1565410d9afd",
   "metadata": {},
   "outputs": [],
   "source": [
    "def lower_case_convert(df_source):\n",
    "    for col_name in df_source.columns:\n",
    "        df_source = df_source.withColumn(col_name, F.lower(F.col(col_name)))\n",
    "    \n",
    "    return df_source"
   ]
  },
  {
   "cell_type": "code",
   "execution_count": 425,
   "id": "66c9b3ed-281e-477a-88a1-42aabee6fb21",
   "metadata": {},
   "outputs": [],
   "source": [
    "df_lower_case = lower_case_convert(df_converted)"
   ]
  },
  {
   "cell_type": "code",
   "execution_count": 427,
   "id": "1244226a-5603-48d9-ad65-ac8e0f18e6ed",
   "metadata": {},
   "outputs": [
    {
     "name": "stdout",
     "output_type": "stream",
     "text": [
      "+----------------------+\n",
      "|review_comment_message|\n",
      "+----------------------+\n",
      "|                  null|\n",
      "|                  null|\n",
      "|   2018-08-02 15:17:08|\n",
      "|                  null|\n",
      "|                  null|\n",
      "|  produto foi entre...|\n",
      "|                  null|\n",
      "|                  null|\n",
      "|  já comprei divers...|\n",
      "|                  null|\n",
      "+----------------------+\n",
      "only showing top 10 rows\n",
      "\n"
     ]
    }
   ],
   "source": [
    "df_lower_case.select(\"review_comment_message\").show(n=10)"
   ]
  },
  {
   "cell_type": "code",
   "execution_count": 517,
   "id": "9e94b9b7-1c02-4831-9950-5ffab1bfe983",
   "metadata": {},
   "outputs": [
    {
     "data": {
      "text/plain": [
       "119030"
      ]
     },
     "execution_count": 517,
     "metadata": {},
     "output_type": "execute_result"
    }
   ],
   "source": [
    "df_lower_case.count()"
   ]
  },
  {
   "cell_type": "markdown",
   "id": "75411714-1989-4a45-b8ba-42f483e54ac6",
   "metadata": {
    "jp-MarkdownHeadingCollapsed": true,
    "tags": []
   },
   "source": [
    "### Criando uma função que faz as seguintes tarefas:\n",
    "- Cria uma nova coluna chamada \"rating\"\n",
    "- Procura as palavras “adorei, eficiente e confiável” na coluna \"review_comment_message\" e caso encontre, salva o texto \"bom\" na nova coluna\n",
    "- Procura a palavra “péssimo” na coluna \"review_comment_message\" e caso encontre, salva o texto \"pésimo\" na nova coluna\n",
    "- O resultado da linha que estiver nulo, classifique como “outros”"
   ]
  },
  {
   "cell_type": "code",
   "execution_count": 526,
   "id": "b24703e0-6380-421b-9094-77298b7592a9",
   "metadata": {},
   "outputs": [],
   "source": [
    "def categoria(df_source):\n",
    "    df_aux = df_source.withColumn(\"rating\", F.when(F.col(\"review_comment_message\").rlike('.(adorei|eficiente|confiavel|confiável).'), \"bom\")\n",
    "                                                   .when(F.col(\"review_comment_message\").rlike('.(péssimo|pessimo).'), \"péssimo\")\n",
    "                                                   .otherwise(\"outros\"))\n",
    "    return df_aux"
   ]
  },
  {
   "cell_type": "code",
   "execution_count": 527,
   "id": "1214b5d7-f333-422b-90eb-4a05b39bd6f4",
   "metadata": {},
   "outputs": [],
   "source": [
    "df_categoria = categoria(df_lower_case)"
   ]
  },
  {
   "cell_type": "code",
   "execution_count": 552,
   "id": "94bbf2ac-2181-4b80-a071-e2061d01145d",
   "metadata": {
    "tags": []
   },
   "outputs": [
    {
     "name": "stdout",
     "output_type": "stream",
     "text": [
      "+-------+------+\n",
      "| rating| count|\n",
      "+-------+------+\n",
      "|péssimo|   138|\n",
      "|    bom|   566|\n",
      "| outros|118326|\n",
      "+-------+------+\n",
      "\n"
     ]
    }
   ],
   "source": [
    "df_categoria.groupBy('rating').count().show()"
   ]
  },
  {
   "cell_type": "markdown",
   "id": "14d0a857-2a92-48d3-8e39-a5fd38bfe8d0",
   "metadata": {
    "jp-MarkdownHeadingCollapsed": true,
    "tags": []
   },
   "source": [
    "### Fazendo um count da nova categoria e vendo quantas linhas tem a categoria bom e quantas linhas péssimo"
   ]
  },
  {
   "cell_type": "code",
   "execution_count": 584,
   "id": "b4b145c5-71f7-42af-8e76-1662f841c7de",
   "metadata": {},
   "outputs": [
    {
     "name": "stdout",
     "output_type": "stream",
     "text": [
      "+-------+-----+\n",
      "| rating|count|\n",
      "+-------+-----+\n",
      "|    bom|  566|\n",
      "|péssimo|  138|\n",
      "+-------+-----+\n",
      "\n"
     ]
    }
   ],
   "source": [
    "df_count_categoria = df_categoria.filter((df_categoria.rating == \"bom\") | (df_categoria.rating == \"péssimo\")).groupBy('rating').count().sort(F.desc(\"count\"))\n",
    "df_count_categoria.show()"
   ]
  },
  {
   "cell_type": "markdown",
   "id": "67f1bd5c-b856-4b51-afaf-5b6aa464c0d6",
   "metadata": {
    "jp-MarkdownHeadingCollapsed": true,
    "tags": []
   },
   "source": [
    "### Criando um gráfico de pizza e um de barra para ilustrar o resultado acima"
   ]
  },
  {
   "cell_type": "markdown",
   "id": "b50d106c-c3a5-448e-8d97-9ad0b9c2c0cf",
   "metadata": {
    "tags": []
   },
   "source": [
    "#### Gráfico de Pizza"
   ]
  },
  {
   "cell_type": "code",
   "execution_count": 596,
   "id": "6d39dcd6-d8b0-4013-b836-a754e472fd3a",
   "metadata": {},
   "outputs": [
    {
     "data": {
      "image/png": "[encoded data removed]",
      "text/plain": [
       "<Figure size 288x288 with 1 Axes>"
      ]
     },
     "metadata": {},
     "output_type": "display_data"
    }
   ],
   "source": [
    "labels = [\"Bom\", \"Péssimo\"]\n",
    "values = [df_count_categoria.select(\"count\").collect()[0][0], df_count_categoria.select(\"count\").collect()[1][0]]\n",
    "\n",
    "fig, ax = plt.subplots(figsize=(4, 4))\n",
    "\n",
    "ax.pie(values, labels=labels, autopct=\"%.2f%%\", shadow=True)\n",
    "plt.show()"
   ]
  },
  {
   "cell_type": "markdown",
   "id": "796be9f8-6a7e-40c9-b0d0-bb0365d00617",
   "metadata": {},
   "source": [
    "#### Gráfico de Barra"
   ]
  },
  {
   "cell_type": "code",
   "execution_count": 625,
   "id": "a7158768-9491-41aa-920f-e32890c92d37",
   "metadata": {},
   "outputs": [
    {
     "data": {
      "image/png": "[encoded data removed]",
      "text/plain": [
       "<Figure size 432x288 with 1 Axes>"
      ]
     },
     "metadata": {
      "needs_background": "light"
     },
     "output_type": "display_data"
    }
   ],
   "source": [
    "plt.bar(labels, values)\n",
    "plt.xlabel(\"Classificação\")\n",
    "plt.ylabel(\"Valor\")\n",
    "#plt.grid(True)\n",
    "plt.show()"
   ]
  },
  {
   "cell_type": "markdown",
   "id": "da7c33d4-d2de-443c-9277-3a7e25d1b970",
   "metadata": {
    "jp-MarkdownHeadingCollapsed": true,
    "tags": []
   },
   "source": [
    "### Fazendo uma soma da coluna “price” e agrupando por produto_category_name do top 6 (ordene do maior para o menor)"
   ]
  },
  {
   "cell_type": "code",
   "execution_count": 649,
   "id": "b4012334-a4bf-4464-ae14-313776c36396",
   "metadata": {},
   "outputs": [
    {
     "name": "stdout",
     "output_type": "stream",
     "text": [
      "+---------------------+------------------+\n",
      "|product_category_name|        sum(price)|\n",
      "+---------------------+------------------+\n",
      "|                  pcs|222963.12999999992|\n",
      "|                bebes|412117.47000000003|\n",
      "|                artes|24202.639999999992|\n",
      "|            cine_foto|           6949.36|\n",
      "|     moveis_decoracao| 736282.4699999999|\n",
      "|             pc_gamer|           1545.95|\n",
      "| construcao_ferram...|145509.39000000004|\n",
      "| tablets_impressao...| 7528.409999999996|\n",
      "|    artigos_de_festas| 4485.180000000002|\n",
      "| fashion_roupa_mas...|10797.819999999989|\n",
      "|     artigos_de_natal|           8800.82|\n",
      "|           la_cuisine|           2054.99|\n",
      "|               flores|           1110.04|\n",
      "|      livros_tecnicos|19149.029999999995|\n",
      "|                 null|         180277.24|\n",
      "|       telefonia_fixa| 59622.99000000001|\n",
      "| construcao_ferram...|40544.520000000026|\n",
      "|           cool_stuff| 637258.5099999995|\n",
      "|     eletrodomesticos| 83195.59999999996|\n",
      "|    livros_importados| 4639.849999999998|\n",
      "+---------------------+------------------+\n",
      "only showing top 20 rows\n",
      "\n"
     ]
    }
   ],
   "source": [
    "df_sum_price = df_categoria.groupBy('product_category_name').agg({'price':\"sum\"})\n",
    "df_sum_price.show()"
   ]
  },
  {
   "cell_type": "code",
   "execution_count": 653,
   "id": "e62d6ae2-eb74-49af-9440-5a26250a9674",
   "metadata": {},
   "outputs": [
    {
     "name": "stdout",
     "output_type": "stream",
     "text": [
      "+----------------------+------------------+\n",
      "|product_category_name |sum(price)        |\n",
      "+----------------------+------------------+\n",
      "|beleza_saude          |1263138.5399999998|\n",
      "|relogios_presentes    |1206075.3299999998|\n",
      "|cama_mesa_banho       |1050936.6099999994|\n",
      "|esporte_lazer         |993656.5100000002 |\n",
      "|informatica_acessorios|919640.54         |\n",
      "|moveis_decoracao      |736282.4699999999 |\n",
      "+----------------------+------------------+\n",
      "\n"
     ]
    }
   ],
   "source": [
    "df_sum_price = df_sum_price.sort(F.desc(\"sum(price)\")).limit(6)\n",
    "df_sum_price.show(truncate=False)"
   ]
  },
  {
   "cell_type": "code",
   "execution_count": 659,
   "id": "645328f9-0891-4be0-bc35-eab9960f597a",
   "metadata": {},
   "outputs": [],
   "source": [
    "labels = [\"beleza_saude\", \"relogios_presentes\", \"cama_mesa_banho\", \"esporte_lazer\", \"informatica_acessorios\", \"moveis_decoracao\"]\n",
    "values = [df_sum_price.select(\"sum(price)\").collect()[0][0], df_sum_price.select(\"sum(price)\").collect()[1][0], df_sum_price.select(\"sum(price)\").collect()[2][0], \n",
    "          df_sum_price.select(\"sum(price)\").collect()[3][0], df_sum_price.select(\"sum(price)\").collect()[4][0], df_sum_price.select(\"sum(price)\").collect()[5][0]]"
   ]
  },
  {
   "cell_type": "code",
   "execution_count": 660,
   "id": "4b1066be-8811-48d7-ade3-61f69a5049c7",
   "metadata": {},
   "outputs": [
    {
     "data": {
      "image/png": "[encoded data removed]",
      "text/plain": [
       "<Figure size 1152x288 with 1 Axes>"
      ]
     },
     "metadata": {
      "needs_background": "light"
     },
     "output_type": "display_data"
    }
   ],
   "source": [
    "fig, ax = plt.subplots(figsize=(16, 4))\n",
    "\n",
    "plt.bar(labels, values)\n",
    "plt.xlabel(\"Categoria\")\n",
    "plt.ylabel(\"Preço somado\")\n",
    "#plt.grid(True)\n",
    "plt.show()"
   ]
  },
  {
   "cell_type": "markdown",
   "id": "961403f5-4818-4641-94af-676cc2d81778",
   "metadata": {},
   "source": [
    "### Gerando o arquivo .parquet"
   ]
  },
  {
   "cell_type": "code",
   "execution_count": 662,
   "id": "3d514f70-c231-4a58-aa78-e5b601d80c95",
   "metadata": {},
   "outputs": [
    {
     "name": "stdout",
     "output_type": "stream",
     "text": [
      "+------------+------------------------+-------------------+----------------------------+-----------------------------+-----------------------------+--------------------+--------------------+----------------------+--------------------+-----------------------+-------------------+-----+-------------+---------------------+-------------------+--------------------------+------------------+----------------+-----------------+-----------------+----------------+------+\n",
      "|order_status|order_purchase_timestamp|  order_approved_at|order_delivered_carrier_date|order_delivered_customer_date|order_estimated_delivery_date|        review_score|review_comment_title|review_comment_message|review_creation_date|review_answer_timestamp|shipping_limit_date|price|freight_value|product_category_name|product_name_lenght|product_description_lenght|product_photos_qty|product_weight_g|product_length_cm|product_height_cm|product_width_cm|rating|\n",
      "+------------+------------------------+-------------------+----------------------------+-----------------------------+-----------------------------+--------------------+--------------------+----------------------+--------------------+-----------------------+-------------------+-----+-------------+---------------------+-------------------+--------------------------+------------------+----------------+-----------------+-----------------+----------------+------+\n",
      "|        null|                    null|               null|                        null|                         null|                         null| 2018-05-10 00:00:00| 2018-05-11 15:06:45|                  null|                null|                   null|               null| null|         null|                 null|               null|                      null|              null|            null|             null|             null|            null|outros|\n",
      "|        null|                    null|               null|                        null|                         null|                         null| 2018-04-11 00:00:00| 2018-04-19 15:30:14|                  null|                null|                   null|               null| null|         null|                 null|               null|                      null|              null|            null|             null|             null|            null|outros|\n",
      "|        null|                    null|               null|                        null|                         null|                         null| diferente apenas...| 2018-08-02 00:00:00|   2018-08-02 15:17:08|                null|                   null|               null| null|         null|                 null|               null|                      null|              null|            null|             null|             null|            null|outros|\n",
      "|   delivered|     2017-07-26 17:38:47|2017-07-26 17:50:17|         2017-07-27 19:39:52|          2017-07-31 15:53:33|          2017-08-17 00:00:00|                   5|                null|                  null|          2017-08-01|    2017-08-04 19:34:54|2017-08-01 17:50:17|27.90|         3.81|           perfumaria|                 30|                       487|                 1|             200|               16|               14|              12|outros|\n",
      "|   delivered|     2017-07-26 17:38:47|2017-07-26 17:50:17|         2017-07-27 19:39:52|          2017-07-31 15:53:33|          2017-08-17 00:00:00|                   5|                null|                  null|          2017-08-01|    2017-08-04 19:34:54|2017-08-01 17:50:17|21.33|        25.39|        esporte_lazer|                 52|                      1153|                 1|             180|               17|               11|              14|outros|\n",
      "+------------+------------------------+-------------------+----------------------------+-----------------------------+-----------------------------+--------------------+--------------------+----------------------+--------------------+-----------------------+-------------------+-----+-------------+---------------------+-------------------+--------------------------+------------------+----------------+-----------------+-----------------+----------------+------+\n",
      "only showing top 5 rows\n",
      "\n"
     ]
    }
   ],
   "source": [
    "df_categoria.repartition(1).write.mode(\"overwrite\").parquet(\"./Parquet_Myra\")\n",
    "df_categoria.show(n=5)"
   ]
  },
  {
   "cell_type": "code",
   "execution_count": 665,
   "id": "8436d5c0-a7e8-4223-850b-2a0b874b3bae",
   "metadata": {},
   "outputs": [
    {
     "name": "stdout",
     "output_type": "stream",
     "text": [
      "+------------+------------------------+-------------------+----------------------------+-----------------------------+-----------------------------+--------------------+--------------------+----------------------+--------------------+-----------------------+-------------------+------+-------------+---------------------+-------------------+--------------------------+------------------+----------------+-----------------+-----------------+----------------+------+\n",
      "|order_status|order_purchase_timestamp|  order_approved_at|order_delivered_carrier_date|order_delivered_customer_date|order_estimated_delivery_date|        review_score|review_comment_title|review_comment_message|review_creation_date|review_answer_timestamp|shipping_limit_date| price|freight_value|product_category_name|product_name_lenght|product_description_lenght|product_photos_qty|product_weight_g|product_length_cm|product_height_cm|product_width_cm|rating|\n",
      "+------------+------------------------+-------------------+----------------------------+-----------------------------+-----------------------------+--------------------+--------------------+----------------------+--------------------+-----------------------+-------------------+------+-------------+---------------------+-------------------+--------------------------+------------------+----------------+-----------------+-----------------+----------------+------+\n",
      "|        null|                    null|               null|                        null|                         null|                         null| 2018-05-10 00:00:00| 2018-05-11 15:06:45|                  null|                null|                   null|               null|  null|         null|                 null|               null|                      null|              null|            null|             null|             null|            null|outros|\n",
      "|        null|                    null|               null|                        null|                         null|                         null| 2018-04-11 00:00:00| 2018-04-19 15:30:14|                  null|                null|                   null|               null|  null|         null|                 null|               null|                      null|              null|            null|             null|             null|            null|outros|\n",
      "|        null|                    null|               null|                        null|                         null|                         null| diferente apenas...| 2018-08-02 00:00:00|   2018-08-02 15:17:08|                null|                   null|               null|  null|         null|                 null|               null|                      null|              null|            null|             null|             null|            null|outros|\n",
      "|   delivered|     2017-07-26 17:38:47|2017-07-26 17:50:17|         2017-07-27 19:39:52|          2017-07-31 15:53:33|          2017-08-17 00:00:00|                   5|                null|                  null|          2017-08-01|    2017-08-04 19:34:54|2017-08-01 17:50:17| 27.90|         3.81|           perfumaria|                 30|                       487|                 1|             200|               16|               14|              12|outros|\n",
      "|   delivered|     2017-07-26 17:38:47|2017-07-26 17:50:17|         2017-07-27 19:39:52|          2017-07-31 15:53:33|          2017-08-17 00:00:00|                   5|                null|                  null|          2017-08-01|    2017-08-04 19:34:54|2017-08-01 17:50:17| 21.33|        25.39|        esporte_lazer|                 52|                      1153|                 1|             180|               17|               11|              14|outros|\n",
      "|   delivered|     2018-02-10 12:52:51|2018-02-10 13:08:12|         2018-02-14 15:28:51|          2018-02-23 02:03:03|          2018-03-14 00:00:00|                   5|                null|  produto foi entre...|          2018-02-24|    2018-02-27 15:10:57|2018-02-15 13:08:12|159.90|        28.50| utilidades_domest...|                 60|                      1912|                 5|            3000|               33|               12|              34|outros|\n",
      "|   delivered|     2018-01-18 10:07:52|2018-01-18 10:17:29|         2018-01-22 22:37:04|          2018-02-01 21:02:22|          2018-02-20 00:00:00|                   3|                null|                  null|          2018-02-02|    2018-02-05 09:59:55|2018-01-24 10:17:29| 34.99|        15.10|            telefonia|                 58|                       751|                 5|             300|               17|                4|              12|outros|\n",
      "|   delivered|     2017-08-09 16:21:06|2017-08-10 10:25:08|         2017-08-11 19:05:53|          2017-08-16 22:34:11|          2017-08-29 00:00:00|                   5|                null|                  null|          2017-08-17|    2017-08-20 20:01:58|2017-08-16 10:25:08|151.99|        17.77|      cama_mesa_banho|                 57|                       184|                 1|           13500|               55|               25|              35|outros|\n",
      "|   delivered|     2017-12-19 09:43:54|2017-12-19 10:53:22|         2017-12-20 16:49:18|          2017-12-21 14:22:56|          2018-01-08 00:00:00|                   5|                null|  já comprei divers...|          2017-12-22|    2017-12-23 13:02:52|2017-12-26 10:53:22| 49.99|        11.73|           brinquedos|                 58|                      1150|                 2|            3900|               45|               33|              26|outros|\n",
      "|   delivered|     2017-09-04 22:25:24|2017-09-04 22:43:55|         2017-09-05 20:49:41|          2017-09-13 20:36:57|          2017-09-27 00:00:00|                   5|                null|                  null|          2017-09-14|    2017-11-04 11:30:12|2017-09-11 22:43:55| 55.00|        14.14|   relogios_presentes|                 54|                       335|                 4|             250|               16|                2|              11|outros|\n",
      "+------------+------------------------+-------------------+----------------------------+-----------------------------+-----------------------------+--------------------+--------------------+----------------------+--------------------+-----------------------+-------------------+------+-------------+---------------------+-------------------+--------------------------+------------------+----------------+-----------------+-----------------+----------------+------+\n",
      "only showing top 10 rows\n",
      "\n"
     ]
    }
   ],
   "source": [
    "df_final = spark.read.parquet('./Parquet_Myra')\n",
    "df_final.show(n=10)"
   ]
  },
  {
   "cell_type": "markdown",
   "id": "ca6cab89-3af1-4a5e-b38b-26ef6f76bae2",
   "metadata": {},
   "source": [
    "### Encerrando sessão do PySpark"
   ]
  },
  {
   "cell_type": "code",
   "execution_count": 666,
   "id": "4c0e2b7b-7b4a-4551-815b-e46288492eaf",
   "metadata": {},
   "outputs": [],
   "source": [
    "spark.stop()"
   ]
  }
 ],
 "metadata": {
  "kernelspec": {
   "display_name": "Python 3.9.7 (engdados)",
   "language": "python",
   "name": "engdados"
  },
  "language_info": {
   "codemirror_mode": {
    "name": "ipython",
    "version": 3
   },
   "file_extension": ".py",
   "mimetype": "text/x-python",
   "name": "python",
   "nbconvert_exporter": "python",
   "pygments_lexer": "ipython3",
   "version": "3.9.7"
  }
 },
 "nbformat": 4,
 "nbformat_minor": 5
}
